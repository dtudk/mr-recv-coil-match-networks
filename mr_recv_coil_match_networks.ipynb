{
 "cells": [
  {
   "cell_type": "code",
   "execution_count": null,
   "metadata": {},
   "outputs": [],
   "source": [
    "\"\"\"\n",
    "This file is part of mr-recv-coil-match-networks.\n",
    "Copyright © 2024 Technical University of Denmark (developed by Rasmus Jepsen)\n",
    "\n",
    "This library is free software; you can redistribute it and/or\n",
    "modify it under the terms of the GNU Lesser General Public\n",
    "License as published by the Free Software Foundation; either\n",
    "version 2.1 of the License, or (at your option) any later version.\n",
    "\n",
    "This library is distributed in the hope that it will be useful,\n",
    "but WITHOUT ANY WARRANTY; without even the implied warranty of\n",
    "MERCHANTABILITY or FITNESS FOR A PARTICULAR PURPOSE.  See the GNU\n",
    "Lesser General Public License for more details.\n",
    "\n",
    "You should have received a copy of the GNU Lesser General Public\n",
    "License along with this library; if not, write to the Free Software\n",
    "Foundation, Inc., 51 Franklin Street, Fifth Floor, Boston, MA  02110-1301  USA\n",
    "\"\"\""
   ]
  },
  {
   "cell_type": "code",
   "execution_count": null,
   "metadata": {},
   "outputs": [],
   "source": [
    "\"\"\"\n",
    "This notebook calculates component values for MRI receive coil matching networks and displays circuit diagrams for the calculated networks.\n",
    "\"\"\""
   ]
  },
  {
   "cell_type": "code",
   "execution_count": null,
   "metadata": {},
   "outputs": [],
   "source": [
    "# import modules\n",
    "import mr_recv_coil_match_networks.topology\n",
    "import mr_recv_coil_match_networks.preamp_decoupling\n",
    "import lc_power_match_baluns.oneport\n",
    "import numpy as np"
   ]
  },
  {
   "cell_type": "code",
   "execution_count": null,
   "metadata": {},
   "outputs": [],
   "source": [
    "# inputs\n",
    "\n",
    "# design frequency (Hz)\n",
    "f0 = 127.73e6\n",
    "\n",
    "# coil impedance (Ohm)\n",
    "z_coil = 1.875 + 190.788j\n",
    "\n",
    "# optimal preamplifier source impedance for noise-matching (Ohm)\n",
    "z_out = 45.740 + 29.525j\n",
    "\n",
    "# preamplifier input impedance (Ohm)\n",
    "z_amp = 45.373 - 135.560j\n",
    "\n",
    "# the preamplifier decoupling condition to be used, change the class name for different decoupling conditions\n",
    "# see the mr_recv_coil_match_networks.preamp_decoupling module for more information \n",
    "preamp_decoupling = mr_recv_coil_match_networks.preamp_decoupling.HighInputImpedancePreampDecoupling(z_coil, z_out, z_amp)\n",
    "\n",
    "# The Q-factors below are used to provide performance estimates at the design frequency.\n",
    "# These performance estimates are only rough and do not account for non-ideal effects other than the Q-factor.\n",
    "# Capacitors are modelled as series RC circuits and inductors as parallel RL circuits.\n",
    "# These estimates are not shown in the ideal case where both Q-factors are set to infinity.\n",
    "\n",
    "# capacitor Q-factor at the design frequency\n",
    "Qc = 200\n",
    "\n",
    "# inductor Q-factor at the design frequency\n",
    "Ql = 15\n",
    "\n",
    "# minimum noise figure for the preamplifier (dB) (needed for noise figure estimates)\n",
    "Fmin = 0.408\n",
    "\n",
    "# noise resistance for the preamplifier (Ohm) (needed for noise figure estimates)\n",
    "Rn = 2.255\n",
    "\n",
    "# whether to display TikZ code for circuit diagrams\n",
    "printTikZ = False"
   ]
  },
  {
   "cell_type": "code",
   "execution_count": null,
   "metadata": {},
   "outputs": [],
   "source": [
    "# draw templates\n",
    "for cls in mr_recv_coil_match_networks.topology.ReceiveCoilMatchingTopology.__subclasses__():\n",
    "    if cls.netlist is not None:\n",
    "        template_circuit = cls.lcapy_circuit()\n",
    "        print(cls.name)\n",
    "        template_circuit.draw()\n",
    "        if printTikZ:\n",
    "            print(template_circuit.sch._tikz_draw())"
   ]
  },
  {
   "cell_type": "code",
   "execution_count": null,
   "metadata": {},
   "outputs": [],
   "source": [
    "# calculate reactance matrices from [1]\n",
    "# [1] W. Wang, V. Zhurbenko, J. D. Sánchez‐Heredia, and J. H. Ardenkjær‐Larsen, \"Trade‐off between preamplifier noise figure and decoupling in MRI detectors,\" Magnetic Resonance in Medicine, vol. 89, no. 2, pp. 859–871, 2023. doi:10.1002/mrm.29489 \n",
    "for i, reactance_parameters in enumerate(preamp_decoupling.reactance_parameters):\n",
    "    print(f\"Solution {i + 1}: (X11, X12, X22) = {reactance_parameters} Ohm\")"
   ]
  },
  {
   "cell_type": "code",
   "execution_count": null,
   "metadata": {},
   "outputs": [],
   "source": [
    "# ideal input impedance for matching network (for verification)\n",
    "print(f\"{preamp_decoupling.ideal_zin=} Ohm\")"
   ]
  },
  {
   "cell_type": "code",
   "execution_count": null,
   "metadata": {},
   "outputs": [],
   "source": [
    "# ideal output impedance for matching network (for verification)\n",
    "print(f\"{z_out=} Ohm\")"
   ]
  },
  {
   "cell_type": "code",
   "execution_count": null,
   "metadata": {},
   "outputs": [],
   "source": [
    "# minimum and maximum values for preamplifier decoupling assuming a lossless matching network (for verification)\n",
    "print(f\"Minimum preamplifier decoupling: {preamp_decoupling.minimum_preamplifier_decoupling} dB\")\n",
    "print(f\"Maximum preamplifier decoupling: {preamp_decoupling.maximum_preamplifier_decoupling} dB\")"
   ]
  },
  {
   "cell_type": "code",
   "execution_count": null,
   "metadata": {},
   "outputs": [],
   "source": [
    "# output results\n",
    "for cls_index, cls in enumerate(mr_recv_coil_match_networks.topology.ReceiveCoilMatchingTopology.__subclasses__()):\n",
    "    print(f\"\\n{cls.name}\")\n",
    "    for reactance_parameters_index, reactance_parameters in enumerate(preamp_decoupling.reactance_parameters):\n",
    "        if reactance_parameters_index > 0 and cls.has_only_one_solution:\n",
    "            break\n",
    "        print(f\"\\nSolution {reactance_parameters_index + 1}\")\n",
    "        x11, x12, x22 = reactance_parameters\n",
    "        topology_reactances = cls.calculate_elements_from_reactance_params(x11, x12, x22)\n",
    "        components = lc_power_match_baluns.oneport.SimpleLosslessOnePort.from_reactances_at_frequency(topology_reactances, f0)\n",
    "        if cls.netlist is not None:\n",
    "            circuit_lc = cls.lcapy_lc_circuit(components)\n",
    "            circuit_lc.draw()\n",
    "        for reactance_index, topology_reactance in enumerate(topology_reactances):\n",
    "            print(f\"X{reactance_index + 1} = {topology_reactance} Ohm\")\n",
    "        for component in components:\n",
    "            print(component)\n",
    "        if printTikZ:\n",
    "            print(circuit_lc.sch._tikz_draw())\n",
    "        if (np.isfinite(Ql) or np.isfinite(Qc)):\n",
    "            lossy_element_impedances = [component.calculate_impedance(f0, Ql if isinstance(component, lc_power_match_baluns.oneport.Inductor) else Qc) for component in components]\n",
    "            nf = cls.calculate_noise_figure(z_coil, z_out, Fmin, Rn, lossy_element_impedances)\n",
    "            rho_in = cls.calculate_rho_in(z_coil, z_amp, lossy_element_impedances)\n",
    "            decoupling = preamp_decoupling.calculate_preamplifier_decoupling(rho_in)\n",
    "            cmrr = cls.calculate_cmrr(z_coil, z_amp, lossy_element_impedances)\n",
    "            print(f\"\\nPerformance estimates at {f0} Hz:\")\n",
    "            print(f\"Noise figure: {nf} dB\")\n",
    "            print(f\"Preamplifier decoupling: {decoupling} dB\")\n",
    "            print(f\"CMRR: {cmrr} dB\")"
   ]
  }
 ],
 "metadata": {
  "kernelspec": {
   "display_name": "Python 3",
   "language": "python",
   "name": "python3"
  },
  "language_info": {
   "codemirror_mode": {
    "name": "ipython",
    "version": 3
   },
   "file_extension": ".py",
   "mimetype": "text/x-python",
   "name": "python",
   "nbconvert_exporter": "python",
   "pygments_lexer": "ipython3",
   "version": "3.11.3"
  }
 },
 "nbformat": 4,
 "nbformat_minor": 2
}

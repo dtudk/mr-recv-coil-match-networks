{
 "cells": [
  {
   "cell_type": "code",
   "execution_count": null,
   "metadata": {},
   "outputs": [],
   "source": [
    "\"\"\"\n",
    "This file is part of mr-recv-coil-match-networks.\n",
    "Copyright © 2024 Technical University of Denmark (developed by Rasmus Jepsen)\n",
    "\n",
    "This library is free software; you can redistribute it and/or\n",
    "modify it under the terms of the GNU Lesser General Public\n",
    "License as published by the Free Software Foundation; either\n",
    "version 2.1 of the License, or (at your option) any later version.\n",
    "\n",
    "This library is distributed in the hope that it will be useful,\n",
    "but WITHOUT ANY WARRANTY; without even the implied warranty of\n",
    "MERCHANTABILITY or FITNESS FOR A PARTICULAR PURPOSE.  See the GNU\n",
    "Lesser General Public License for more details.\n",
    "\n",
    "You should have received a copy of the GNU Lesser General Public\n",
    "License along with this library; if not, write to the Free Software\n",
    "Foundation, Inc., 51 Franklin Street, Fifth Floor, Boston, MA  02110-1301  USA\n",
    "\"\"\""
   ]
  },
  {
   "cell_type": "code",
   "execution_count": null,
   "metadata": {},
   "outputs": [],
   "source": [
    "\"\"\"\n",
    "This notebook shows that an extended bridged T 2 network topology network cannot simultaneously provide noise matching, preamplifier decoupling and common mode rejection.\n",
    "\n",
    "This notebook uses a similar process to the derivations in [1].\n",
    "\"\"\""
   ]
  },
  {
   "cell_type": "code",
   "execution_count": null,
   "metadata": {},
   "outputs": [],
   "source": [
    "# import modules\n",
    "from lcapy import Circuit, oo, expr, symbol, j, Eq, Z, Matrix\n",
    "from lcapy.expr import symbols"
   ]
  },
  {
   "cell_type": "code",
   "execution_count": null,
   "metadata": {},
   "outputs": [],
   "source": [
    "# construct and draw network\n",
    "matching_net = Circuit(\"\"\"\n",
    "Z1 1 5_0; right\n",
    "Z3 5_0 4_0; down\n",
    "Z5 3 4_0; right\n",
    "W 4_0 0; right\n",
    "Z4 5_0 2; right\n",
    "W 1_1 1; down\n",
    "W 2_2 2; down\n",
    "W 2_3 2_2; right\n",
    "Z2 1_1 2_3; right\n",
    "\"\"\")\n",
    "matching_net.draw()"
   ]
  },
  {
   "cell_type": "code",
   "execution_count": null,
   "metadata": {},
   "outputs": [],
   "source": [
    "# differential-mode two-port form of the network\n",
    "matching_net_twoport = matching_net.twoport(1, 3, 2, 0)"
   ]
  },
  {
   "cell_type": "code",
   "execution_count": null,
   "metadata": {},
   "outputs": [],
   "source": [
    "# initialise symbols\n",
    "\n",
    "# resistance and reactance of the optimal output impedance for noise matching\n",
    "r_out, x_out = symbols('R_out X_out', real=True)\n",
    "\n",
    "# resistance and reactance of the coil\n",
    "r_coil, x_coil = symbols('R_coil X_coil', real=True)\n",
    "\n",
    "# input resistance and reactance of the preamplifier\n",
    "r_amp, x_amp = symbols('R_amp X_amp', real=True)\n",
    "\n",
    "# input impedance of the preamplifier and the coil impedance\n",
    "z_amp, z_coil = symbols('Z_amp Z_coil', complex=True)\n",
    "\n",
    "# element reactances\n",
    "x_1, x_2, x_3, x_4, x_5 = symbols('X_1 X_2 X_3 X_4 X_5', real=True)"
   ]
  },
  {
   "cell_type": "code",
   "execution_count": null,
   "metadata": {},
   "outputs": [],
   "source": [
    "# three-port Z parameters\n",
    "threeport_z = matching_net.Zparamsn(2,0,1,0,3,0)\n",
    "threeport_z"
   ]
  },
  {
   "cell_type": "code",
   "execution_count": null,
   "metadata": {},
   "outputs": [],
   "source": [
    "# The technique described in [2] is used to convert the three-port impedance matrix to three-port scattering parameters."
   ]
  },
  {
   "cell_type": "code",
   "execution_count": null,
   "metadata": {},
   "outputs": [],
   "source": [
    "# initialise matrices for converting Z-parameters to S-parameters\n",
    "\n",
    "f = Matrix(((z_amp.real ** 0.5 / 2, 0, 0), (0, (z_coil.real / 2) ** 0.5 / 2, 0), (0, 0, (z_coil.real / 2) ** 0.5 / 2)))\n",
    "\n",
    "g = Matrix(((z_amp, 0, 0), (0, z_coil / 2, 0), (0, 0, z_coil / 2)))\n",
    "\n",
    "g_plus = Matrix(((z_amp.conj, 0, 0), (0, z_coil.conj / 2, 0), (0, 0, z_coil.conj / 2)))"
   ]
  },
  {
   "cell_type": "code",
   "execution_count": null,
   "metadata": {},
   "outputs": [],
   "source": [
    "# calculate the renormalised three-port scattering parameters\n",
    "threeport_s = f * (threeport_z - g_plus) * (threeport_z + g).inv() * f.inv()\n",
    "threeport_s"
   ]
  },
  {
   "cell_type": "code",
   "execution_count": null,
   "metadata": {},
   "outputs": [],
   "source": [
    "# The method described in [3] is used to calculate the common-mode rejection ratio (CMRR)."
   ]
  },
  {
   "cell_type": "code",
   "execution_count": null,
   "metadata": {},
   "outputs": [],
   "source": [
    "# common-mode response\n",
    "matching_net_s21cs = expr('1/sqrt(2)') * (threeport_s[1,0] + threeport_s[2,0])\n",
    "matching_net_s21cs.simplify()"
   ]
  },
  {
   "cell_type": "code",
   "execution_count": null,
   "metadata": {},
   "outputs": [],
   "source": [
    "# differential-mode response\n",
    "matching_net_s21ds = expr('1/sqrt(2)') * (threeport_s[1,0] - threeport_s[2,0])\n",
    "matching_net_s21ds.simplify()"
   ]
  },
  {
   "cell_type": "code",
   "execution_count": null,
   "metadata": {},
   "outputs": [],
   "source": [
    "# variable substitutions for later steps\n",
    "substitutions = {'Z1': j * x_1, 'Z2': j * x_2, 'Z3': j * x_3, 'Z4': j * x_4, 'Z5': j * x_5, 'Z_coil': r_coil + j * x_coil, 'Z_amp': r_amp + j * x_amp}"
   ]
  },
  {
   "cell_type": "code",
   "execution_count": null,
   "metadata": {},
   "outputs": [],
   "source": [
    "# calculate the inverse of the common-mode rejection ratio and substitute values in\n",
    "inv_cmrr = (matching_net_s21cs / matching_net_s21ds).simplify().subs(substitutions).simplify()\n",
    "inv_cmrr"
   ]
  },
  {
   "cell_type": "code",
   "execution_count": null,
   "metadata": {},
   "outputs": [],
   "source": [
    "# This topology has no solutions that yield common-mode rejection, therefore it cannot be used as a common-mode rejecting matching network."
   ]
  },
  {
   "cell_type": "code",
   "execution_count": null,
   "metadata": {},
   "outputs": [],
   "source": [
    "\"\"\"References:\n",
    "[1] R. A. Jepsen, \"LC Power-Matching Baluns\". Zenodo, Feb. 28, 2024. doi: 10.5281/zenodo.10723786.\n",
    "[2] K. Kurokawa, \"Power waves and the scattering matrix,\" IEEE Transactions on Microwave Theory and Techniques, vol. 13, no. 2, pp. 194–202, 1965.\n",
    "[3] D. Bockelman and W. Eisenstadt, \"Combined differential and common-mode analysis of power splitters and combiners,\" IEEE Transactions on Microwave Theory and Techniques, vol. 43, no. 11, pp. 2627–2632, 1995.\n",
    "\"\"\""
   ]
  }
 ],
 "metadata": {
  "kernelspec": {
   "display_name": "Python 3",
   "language": "python",
   "name": "python3"
  },
  "language_info": {
   "codemirror_mode": {
    "name": "ipython",
    "version": 3
   },
   "file_extension": ".py",
   "mimetype": "text/x-python",
   "name": "python",
   "nbconvert_exporter": "python",
   "pygments_lexer": "ipython3",
   "version": "3.11.3"
  }
 },
 "nbformat": 4,
 "nbformat_minor": 2
}
